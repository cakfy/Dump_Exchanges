{
 "cells": [
  {
   "cell_type": "code",
   "execution_count": 96,
   "metadata": {
    "collapsed": false,
    "deletable": true,
    "editable": true
   },
   "outputs": [
    {
     "name": "stdout",
     "output_type": "stream",
     "text": [
      "{'mars': 0, 'mark': 56690, 'happy': 9999, 'smile': 123456}\n"
     ]
    }
   ],
   "source": [
    "#hash編碼記憶陣列\n",
    "passwd={'mars':00000, 'mark':56690}\n",
    "passwd['happy']= 9999\n",
    "passwd['smile']= 123456\n",
    "print (passwd)"
   ]
  },
  {
   "cell_type": "code",
   "execution_count": 157,
   "metadata": {
    "collapsed": false,
    "deletable": true,
    "editable": true
   },
   "outputs": [
    {
     "name": "stdout",
     "output_type": "stream",
     "text": [
      "{'mark': 56708, 'happy': 9999, 'smile': 123456}\n",
      "None\n"
     ]
    }
   ],
   "source": [
    "passwd['mark'] = passwd['mark'] + 1\n",
    "print (passwd)\n",
    "print (passwd.get('tony'))"
   ]
  },
  {
   "cell_type": "code",
   "execution_count": 161,
   "metadata": {
    "collapsed": false,
    "deletable": true,
    "editable": true
   },
   "outputs": [
    {
     "name": "stdout",
     "output_type": "stream",
     "text": [
      "灣\n"
     ]
    }
   ],
   "source": [
    "s = \"台灣\"\n",
    "print(s[1])"
   ]
  },
  {
   "cell_type": "code",
   "execution_count": 530,
   "metadata": {
    "collapsed": false,
    "deletable": true,
    "editable": true
   },
   "outputs": [
    {
     "name": "stdout",
     "output_type": "stream",
     "text": [
      "a\n",
      "97\n",
      "b\n",
      "a\n"
     ]
    }
   ],
   "source": [
    "#變數型態\n",
    "x = 'a'\n",
    "y = 98\n",
    "print ( x )\n",
    "print ( ord(x))\n",
    "print ( chr(y))\n",
    "print ( str(x))\n"
   ]
  },
  {
   "cell_type": "code",
   "execution_count": 185,
   "metadata": {
    "collapsed": false,
    "deletable": true,
    "editable": true
   },
   "outputs": [
    {
     "name": "stdout",
     "output_type": "stream",
     "text": [
      "QQ毛毛 \t 155 48 32\n",
      "凱子 \t 171 53 33\n"
     ]
    }
   ],
   "source": [
    "class family:\n",
    "    def __init__(self, name, height, weight, age):\n",
    "        self.name = name\n",
    "        self.height = height\n",
    "        self.weight = weight\n",
    "        self.age = age\n",
    "    def set_name(self, name):\n",
    "        self.name = name\n",
    "\n",
    "foo = []\n",
    "foo.append( family('小Q', 155, 48, 32))\n",
    "foo.append( family(\"凱子\", 171, 53, 33))\n",
    "foo[0].set_name(\"QQ毛毛\")\n",
    "for i in foo:\n",
    "    print (i.name,'\\t', i.height, i.weight, i.age)"
   ]
  },
  {
   "cell_type": "code",
   "execution_count": 486,
   "metadata": {
    "collapsed": false
   },
   "outputs": [
    {
     "name": "stdout",
     "output_type": "stream",
     "text": [
      "36 43 11\n"
     ]
    }
   ],
   "source": [
    "#讀時間\n",
    "import sys\n",
    "from time import time\n",
    "t = int(time())\n",
    "sec = t%60\n",
    "min = int((t/60)%60)\n",
    "hr = int((t/60)/60)%24\n",
    "print ( sec, min, hr)1"
   ]
  },
  {
   "cell_type": "code",
   "execution_count": 517,
   "metadata": {
    "collapsed": false,
    "deletable": true,
    "editable": true
   },
   "outputs": [
    {
     "name": "stdout",
     "output_type": "stream",
     "text": [
      "1\n",
      "22\n",
      "333\n",
      "4444\n",
      "55555\n",
      "      \n",
      "\n",
      "8888888\n",
      "\n"
     ]
    }
   ],
   "source": [
    "#學習開檔、讀檔、寫檔, print最後會自動斷行\n",
    "file_in = open('db.txt')\n",
    "file_out = open('copy.txt', 'w')\n",
    "\n",
    "for line in file_in:\n",
    "    print( line[:-1] )\n",
    "    for i in range(0,len(line)):\n",
    "#        if line[i] != \"\\n\":\n",
    "#            sys.stdout.write(line[i]+',')\n",
    "#        else:\n",
    "#            sys.stdout.write(line[i])\n",
    "        file_out.write(line[i])\n",
    "               \n",
    "sys.stdout.write('\\n')\n",
    "file_in.close()\n",
    "file_out.close()\n",
    "               "
   ]
  },
  {
   "cell_type": "code",
   "execution_count": 581,
   "metadata": {
    "collapsed": false
   },
   "outputs": [
    {
     "name": "stdout",
     "output_type": "stream",
     "text": [
      "不能除以0!!!\n",
      "無論有沒有例外都會執行這一行\n"
     ]
    }
   ],
   "source": [
    "#Try exception\n",
    "def my_divide():\n",
    "    try:\n",
    "        10 / 0 #會讓程式出錯,所以需要特別handle\n",
    "\n",
    "    except ZeroDivisionError:\n",
    "        print (\"不能除以0!!!\")\n",
    "    else: \n",
    "        print (\"沒有任何錯誤\")\n",
    "    finally:\n",
    "        print (\"無論有沒有例外都會執行這一行\")\n",
    "my_divide()\n"
   ]
  },
  {
   "cell_type": "code",
   "execution_count": null,
   "metadata": {
    "collapsed": true
   },
   "outputs": [],
   "source": []
  }
 ],
 "metadata": {
  "kernelspec": {
   "display_name": "Python 3",
   "language": "python",
   "name": "python3"
  },
  "language_info": {
   "codemirror_mode": {
    "name": "ipython",
    "version": 3
   },
   "file_extension": ".py",
   "mimetype": "text/x-python",
   "name": "python",
   "nbconvert_exporter": "python",
   "pygments_lexer": "ipython3",
   "version": "3.6.0"
  }
 },
 "nbformat": 4,
 "nbformat_minor": 2
}
