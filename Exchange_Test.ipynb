{
 "cells": [
  {
   "cell_type": "code",
   "execution_count": 9,
   "metadata": {
    "collapsed": false,
    "deletable": true,
    "editable": true
   },
   "outputs": [
    {
     "data": {
      "text/plain": [
       "list"
      ]
     },
     "execution_count": 9,
     "metadata": {},
     "output_type": "execute_result"
    }
   ],
   "source": [
    "import pandas\n",
    "dfs = pandas.read_html('http://rate.bot.com.tw/xrt?Lang=zh-TW')\n",
    "type(dfs)\n",
    "len(dfs)\n",
    "currency = dfs[0]\n",
    "\n",
    "type(dfs)"
   ]
  },
  {
   "cell_type": "code",
   "execution_count": 10,
   "metadata": {
    "collapsed": false
   },
   "outputs": [
    {
     "data": {
      "text/plain": [
       "list"
      ]
     },
     "execution_count": 10,
     "metadata": {},
     "output_type": "execute_result"
    }
   ],
   "source": [
    "type(dfs)"
   ]
  },
  {
   "cell_type": "code",
   "execution_count": 12,
   "metadata": {
    "collapsed": false,
    "deletable": true,
    "editable": true
   },
   "outputs": [
    {
     "data": {
      "text/plain": [
       "pandas.core.frame.DataFrame"
      ]
     },
     "execution_count": 12,
     "metadata": {},
     "output_type": "execute_result"
    }
   ],
   "source": [
    "currency = currency.ix[:,0:5]\n",
    "type(currency)"
   ]
  },
  {
   "cell_type": "code",
   "execution_count": 13,
   "metadata": {
    "collapsed": false
   },
   "outputs": [
    {
     "data": {
      "text/plain": [
       "pandas.core.frame.DataFrame"
      ]
     },
     "execution_count": 13,
     "metadata": {},
     "output_type": "execute_result"
    }
   ],
   "source": [
    "currency.columns = [u\"幣別\",u\"現金-賣出\",u\"現金-買入\",u\"即期-賣出\",u\"即期-買入\"]\n",
    "type(currency)"
   ]
  },
  {
   "cell_type": "code",
   "execution_count": 14,
   "metadata": {
    "collapsed": false,
    "deletable": true,
    "editable": true,
    "scrolled": true
   },
   "outputs": [
    {
     "data": {
      "text/html": [
       "<div>\n",
       "<table border=\"1\" class=\"dataframe\">\n",
       "  <thead>\n",
       "    <tr style=\"text-align: right;\">\n",
       "      <th></th>\n",
       "      <th>幣別</th>\n",
       "      <th>現金-賣出</th>\n",
       "      <th>現金-買入</th>\n",
       "      <th>即期-賣出</th>\n",
       "      <th>即期-買入</th>\n",
       "    </tr>\n",
       "  </thead>\n",
       "  <tbody>\n",
       "    <tr>\n",
       "      <th>0</th>\n",
       "      <td>美金 (USD)  美金 (USD)</td>\n",
       "      <td>30.69</td>\n",
       "      <td>31.232</td>\n",
       "      <td>30.99</td>\n",
       "      <td>31.09</td>\n",
       "    </tr>\n",
       "    <tr>\n",
       "      <th>1</th>\n",
       "      <td>港幣 (HKD)  港幣 (HKD)</td>\n",
       "      <td>3.847</td>\n",
       "      <td>4.042</td>\n",
       "      <td>3.967</td>\n",
       "      <td>4.027</td>\n",
       "    </tr>\n",
       "    <tr>\n",
       "      <th>2</th>\n",
       "      <td>英鎊 (GBP)  英鎊 (GBP)</td>\n",
       "      <td>36.68</td>\n",
       "      <td>38.61</td>\n",
       "      <td>37.55</td>\n",
       "      <td>37.97</td>\n",
       "    </tr>\n",
       "    <tr>\n",
       "      <th>3</th>\n",
       "      <td>澳幣 (AUD)  澳幣 (AUD)</td>\n",
       "      <td>23.04</td>\n",
       "      <td>23.7</td>\n",
       "      <td>23.23</td>\n",
       "      <td>23.46</td>\n",
       "    </tr>\n",
       "    <tr>\n",
       "      <th>4</th>\n",
       "      <td>加拿大幣 (CAD)  加拿大幣 (CAD)</td>\n",
       "      <td>22.62</td>\n",
       "      <td>23.36</td>\n",
       "      <td>22.89</td>\n",
       "      <td>23.11</td>\n",
       "    </tr>\n",
       "    <tr>\n",
       "      <th>5</th>\n",
       "      <td>新加坡幣 (SGD)  新加坡幣 (SGD)</td>\n",
       "      <td>21.37</td>\n",
       "      <td>22.15</td>\n",
       "      <td>21.79</td>\n",
       "      <td>21.97</td>\n",
       "    </tr>\n",
       "    <tr>\n",
       "      <th>6</th>\n",
       "      <td>瑞士法郎 (CHF)  瑞士法郎 (CHF)</td>\n",
       "      <td>29.97</td>\n",
       "      <td>31.03</td>\n",
       "      <td>30.5</td>\n",
       "      <td>30.79</td>\n",
       "    </tr>\n",
       "    <tr>\n",
       "      <th>7</th>\n",
       "      <td>日圓 (JPY)  日圓 (JPY)</td>\n",
       "      <td>0.2609</td>\n",
       "      <td>0.2719</td>\n",
       "      <td>0.2673</td>\n",
       "      <td>0.2713</td>\n",
       "    </tr>\n",
       "    <tr>\n",
       "      <th>8</th>\n",
       "      <td>南非幣 (ZAR)  南非幣 (ZAR)</td>\n",
       "      <td>-</td>\n",
       "      <td>-</td>\n",
       "      <td>2.29</td>\n",
       "      <td>2.37</td>\n",
       "    </tr>\n",
       "    <tr>\n",
       "      <th>9</th>\n",
       "      <td>瑞典幣 (SEK)  瑞典幣 (SEK)</td>\n",
       "      <td>3.05</td>\n",
       "      <td>3.56</td>\n",
       "      <td>3.39</td>\n",
       "      <td>3.49</td>\n",
       "    </tr>\n",
       "    <tr>\n",
       "      <th>10</th>\n",
       "      <td>紐元 (NZD)  紐元 (NZD)</td>\n",
       "      <td>21.11</td>\n",
       "      <td>21.74</td>\n",
       "      <td>21.35</td>\n",
       "      <td>21.55</td>\n",
       "    </tr>\n",
       "    <tr>\n",
       "      <th>11</th>\n",
       "      <td>泰幣 (THB)  泰幣 (THB)</td>\n",
       "      <td>0.774</td>\n",
       "      <td>0.917</td>\n",
       "      <td>0.8625</td>\n",
       "      <td>0.9025</td>\n",
       "    </tr>\n",
       "    <tr>\n",
       "      <th>12</th>\n",
       "      <td>菲國比索 (PHP)  菲國比索 (PHP)</td>\n",
       "      <td>0.5679</td>\n",
       "      <td>0.7009</td>\n",
       "      <td>-</td>\n",
       "      <td>-</td>\n",
       "    </tr>\n",
       "    <tr>\n",
       "      <th>13</th>\n",
       "      <td>印尼幣 (IDR)  印尼幣 (IDR)</td>\n",
       "      <td>0.00198</td>\n",
       "      <td>0.00268</td>\n",
       "      <td>-</td>\n",
       "      <td>-</td>\n",
       "    </tr>\n",
       "    <tr>\n",
       "      <th>14</th>\n",
       "      <td>歐元 (EUR)  歐元 (EUR)</td>\n",
       "      <td>32.19</td>\n",
       "      <td>33.34</td>\n",
       "      <td>32.69</td>\n",
       "      <td>33.09</td>\n",
       "    </tr>\n",
       "    <tr>\n",
       "      <th>15</th>\n",
       "      <td>韓元 (KRW)  韓元 (KRW)</td>\n",
       "      <td>0.02511</td>\n",
       "      <td>0.02901</td>\n",
       "      <td>-</td>\n",
       "      <td>-</td>\n",
       "    </tr>\n",
       "    <tr>\n",
       "      <th>16</th>\n",
       "      <td>越南盾 (VND)  越南盾 (VND)</td>\n",
       "      <td>0.00099</td>\n",
       "      <td>0.00149</td>\n",
       "      <td>-</td>\n",
       "      <td>-</td>\n",
       "    </tr>\n",
       "    <tr>\n",
       "      <th>17</th>\n",
       "      <td>馬來幣 (MYR)  馬來幣 (MYR)</td>\n",
       "      <td>5.917</td>\n",
       "      <td>7.452</td>\n",
       "      <td>-</td>\n",
       "      <td>-</td>\n",
       "    </tr>\n",
       "    <tr>\n",
       "      <th>18</th>\n",
       "      <td>人民幣 (CNY)  人民幣 (CNY)</td>\n",
       "      <td>4.395</td>\n",
       "      <td>4.557</td>\n",
       "      <td>4.467</td>\n",
       "      <td>4.517</td>\n",
       "    </tr>\n",
       "  </tbody>\n",
       "</table>\n",
       "</div>"
      ],
      "text/plain": [
       "                        幣別    現金-賣出    現金-買入   即期-賣出   即期-買入\n",
       "0       美金 (USD)  美金 (USD)    30.69   31.232   30.99   31.09\n",
       "1       港幣 (HKD)  港幣 (HKD)    3.847    4.042   3.967   4.027\n",
       "2       英鎊 (GBP)  英鎊 (GBP)    36.68    38.61   37.55   37.97\n",
       "3       澳幣 (AUD)  澳幣 (AUD)    23.04     23.7   23.23   23.46\n",
       "4   加拿大幣 (CAD)  加拿大幣 (CAD)    22.62    23.36   22.89   23.11\n",
       "5   新加坡幣 (SGD)  新加坡幣 (SGD)    21.37    22.15   21.79   21.97\n",
       "6   瑞士法郎 (CHF)  瑞士法郎 (CHF)    29.97    31.03    30.5   30.79\n",
       "7       日圓 (JPY)  日圓 (JPY)   0.2609   0.2719  0.2673  0.2713\n",
       "8     南非幣 (ZAR)  南非幣 (ZAR)        -        -    2.29    2.37\n",
       "9     瑞典幣 (SEK)  瑞典幣 (SEK)     3.05     3.56    3.39    3.49\n",
       "10      紐元 (NZD)  紐元 (NZD)    21.11    21.74   21.35   21.55\n",
       "11      泰幣 (THB)  泰幣 (THB)    0.774    0.917  0.8625  0.9025\n",
       "12  菲國比索 (PHP)  菲國比索 (PHP)   0.5679   0.7009       -       -\n",
       "13    印尼幣 (IDR)  印尼幣 (IDR)  0.00198  0.00268       -       -\n",
       "14      歐元 (EUR)  歐元 (EUR)    32.19    33.34   32.69   33.09\n",
       "15      韓元 (KRW)  韓元 (KRW)  0.02511  0.02901       -       -\n",
       "16    越南盾 (VND)  越南盾 (VND)  0.00099  0.00149       -       -\n",
       "17    馬來幣 (MYR)  馬來幣 (MYR)    5.917    7.452       -       -\n",
       "18    人民幣 (CNY)  人民幣 (CNY)    4.395    4.557   4.467   4.517"
      ]
     },
     "execution_count": 14,
     "metadata": {},
     "output_type": "execute_result"
    }
   ],
   "source": [
    "currency"
   ]
  },
  {
   "cell_type": "code",
   "execution_count": 21,
   "metadata": {
    "collapsed": false,
    "deletable": true,
    "editable": true
   },
   "outputs": [
    {
     "data": {
      "text/html": [
       "<div>\n",
       "<table border=\"1\" class=\"dataframe\">\n",
       "  <thead>\n",
       "    <tr style=\"text-align: right;\">\n",
       "      <th></th>\n",
       "      <th>0</th>\n",
       "      <th>1</th>\n",
       "      <th>2</th>\n",
       "    </tr>\n",
       "  </thead>\n",
       "  <tbody>\n",
       "    <tr>\n",
       "      <th>0</th>\n",
       "      <td>美金</td>\n",
       "      <td></td>\n",
       "      <td>(USD</td>\n",
       "    </tr>\n",
       "    <tr>\n",
       "      <th>1</th>\n",
       "      <td>港幣</td>\n",
       "      <td></td>\n",
       "      <td>(HKD</td>\n",
       "    </tr>\n",
       "    <tr>\n",
       "      <th>2</th>\n",
       "      <td>英鎊</td>\n",
       "      <td></td>\n",
       "      <td>(GBP</td>\n",
       "    </tr>\n",
       "    <tr>\n",
       "      <th>3</th>\n",
       "      <td>澳幣</td>\n",
       "      <td></td>\n",
       "      <td>(AUD</td>\n",
       "    </tr>\n",
       "    <tr>\n",
       "      <th>4</th>\n",
       "      <td>加拿大幣</td>\n",
       "      <td></td>\n",
       "      <td>(CAD</td>\n",
       "    </tr>\n",
       "    <tr>\n",
       "      <th>5</th>\n",
       "      <td>新加坡幣</td>\n",
       "      <td></td>\n",
       "      <td>(SGD</td>\n",
       "    </tr>\n",
       "    <tr>\n",
       "      <th>6</th>\n",
       "      <td>瑞士法郎</td>\n",
       "      <td></td>\n",
       "      <td>(CHF</td>\n",
       "    </tr>\n",
       "    <tr>\n",
       "      <th>7</th>\n",
       "      <td>日圓</td>\n",
       "      <td></td>\n",
       "      <td>(JPY</td>\n",
       "    </tr>\n",
       "    <tr>\n",
       "      <th>8</th>\n",
       "      <td>南非幣</td>\n",
       "      <td></td>\n",
       "      <td>(ZAR</td>\n",
       "    </tr>\n",
       "    <tr>\n",
       "      <th>9</th>\n",
       "      <td>瑞典幣</td>\n",
       "      <td></td>\n",
       "      <td>(SEK</td>\n",
       "    </tr>\n",
       "    <tr>\n",
       "      <th>10</th>\n",
       "      <td>紐元</td>\n",
       "      <td></td>\n",
       "      <td>(NZD</td>\n",
       "    </tr>\n",
       "    <tr>\n",
       "      <th>11</th>\n",
       "      <td>泰幣</td>\n",
       "      <td></td>\n",
       "      <td>(THB</td>\n",
       "    </tr>\n",
       "    <tr>\n",
       "      <th>12</th>\n",
       "      <td>菲國比索</td>\n",
       "      <td></td>\n",
       "      <td>(PHP</td>\n",
       "    </tr>\n",
       "    <tr>\n",
       "      <th>13</th>\n",
       "      <td>印尼幣</td>\n",
       "      <td></td>\n",
       "      <td>(IDR</td>\n",
       "    </tr>\n",
       "    <tr>\n",
       "      <th>14</th>\n",
       "      <td>歐元</td>\n",
       "      <td></td>\n",
       "      <td>(EUR</td>\n",
       "    </tr>\n",
       "    <tr>\n",
       "      <th>15</th>\n",
       "      <td>韓元</td>\n",
       "      <td></td>\n",
       "      <td>(KRW</td>\n",
       "    </tr>\n",
       "    <tr>\n",
       "      <th>16</th>\n",
       "      <td>越南盾</td>\n",
       "      <td></td>\n",
       "      <td>(VND</td>\n",
       "    </tr>\n",
       "    <tr>\n",
       "      <th>17</th>\n",
       "      <td>馬來幣</td>\n",
       "      <td></td>\n",
       "      <td>(MYR</td>\n",
       "    </tr>\n",
       "    <tr>\n",
       "      <th>18</th>\n",
       "      <td>人民幣</td>\n",
       "      <td></td>\n",
       "      <td>(CNY</td>\n",
       "    </tr>\n",
       "  </tbody>\n",
       "</table>\n",
       "</div>"
      ],
      "text/plain": [
       "       0  1     2\n",
       "0     美金     (USD\n",
       "1     港幣     (HKD\n",
       "2     英鎊     (GBP\n",
       "3     澳幣     (AUD\n",
       "4   加拿大幣     (CAD\n",
       "5   新加坡幣     (SGD\n",
       "6   瑞士法郎     (CHF\n",
       "7     日圓     (JPY\n",
       "8    南非幣     (ZAR\n",
       "9    瑞典幣     (SEK\n",
       "10    紐元     (NZD\n",
       "11    泰幣     (THB\n",
       "12  菲國比索     (PHP\n",
       "13   印尼幣     (IDR\n",
       "14    歐元     (EUR\n",
       "15    韓元     (KRW\n",
       "16   越南盾     (VND\n",
       "17   馬來幣     (MYR\n",
       "18   人民幣     (CNY"
      ]
     },
     "execution_count": 21,
     "metadata": {},
     "output_type": "execute_result"
    }
   ],
   "source": [
    "#currency[u'幣別'] = currency[u'幣別'].str.extract('\\((\\w+)\\)')\n",
    "currency[u'幣別'] = currency[u'幣別'].str.partition(')')[0]\n",
    "currency[u'幣別'].str.partition(' ')"
   ]
  },
  {
   "cell_type": "code",
   "execution_count": 15,
   "metadata": {
    "collapsed": false
   },
   "outputs": [
    {
     "data": {
      "text/plain": [
       "pandas.core.frame.DataFrame"
      ]
     },
     "execution_count": 15,
     "metadata": {},
     "output_type": "execute_result"
    }
   ],
   "source": [
    "type(currency)"
   ]
  },
  {
   "cell_type": "code",
   "execution_count": 147,
   "metadata": {
    "collapsed": false,
    "deletable": true,
    "editable": true
   },
   "outputs": [],
   "source": [
    "currency.to_excel(\"currency.xlsx\")"
   ]
  }
 ],
 "metadata": {
  "kernelspec": {
   "display_name": "Python 3",
   "language": "python",
   "name": "python3"
  },
  "language_info": {
   "codemirror_mode": {
    "name": "ipython",
    "version": 3
   },
   "file_extension": ".py",
   "mimetype": "text/x-python",
   "name": "python",
   "nbconvert_exporter": "python",
   "pygments_lexer": "ipython3",
   "version": "3.6.0"
  }
 },
 "nbformat": 4,
 "nbformat_minor": 2
}
